{
 "cells": [
  {
   "cell_type": "markdown",
   "metadata": {},
   "source": [
    "# Machine Learning Engineer Nanodegree\n",
    "## Supervised Learning\n",
    "## Project 2: Building a Student Intervention System"
   ]
  },
  {
   "cell_type": "markdown",
   "metadata": {},
   "source": [
    "Welcome to the second project of the Machine Learning Engineer Nanodegree! In this notebook, some template code has already been provided for you, and it will be your job to implement the additional functionality necessary to successfully complete this project. Sections that begin with **'Implementation'** in the header indicate that the following block of code will require additional functionality which you must provide. Instructions will be provided for each section and the specifics of the implementation are marked in the code block with a `'TODO'` statement. Please be sure to read the instructions carefully!\n",
    "\n",
    "In addition to implementing code, there will be questions that you must answer which relate to the project and your implementation. Each section where you will answer a question is preceded by a **'Question X'** header. Carefully read each question and provide thorough answers in the following text boxes that begin with **'Answer:'**. Your project submission will be evaluated based on your answers to each of the questions and the implementation you provide.  \n",
    "\n",
    ">**Note:** Code and Markdown cells can be executed using the **Shift + Enter** keyboard shortcut. In addition, Markdown cells can be edited by typically double-clicking the cell to enter edit mode."
   ]
  },
  {
   "cell_type": "markdown",
   "metadata": {},
   "source": [
    "### Question 1 - Classification vs. Regression\n",
    "*Your goal for this project is to identify students who might need early intervention before they fail to graduate. Which type of supervised learning problem is this, classification or regression? Why?*"
   ]
  },
  {
   "cell_type": "markdown",
   "metadata": {},
   "source": [
    "**Answer: ** \n",
    "It's a classification problem as the goal of this project is to separate students into categories (those who pass and those who fail). Moreover, it's binary classification problem as there are only two classes."
   ]
  },
  {
   "cell_type": "markdown",
   "metadata": {},
   "source": [
    "## Exploring the Data\n",
    "Run the code cell below to load necessary Python libraries and load the student data. Note that the last column from this dataset, `'passed'`, will be our target label (whether the student graduated or didn't graduate). All other columns are features about each student."
   ]
  },
  {
   "cell_type": "code",
   "execution_count": 1,
   "metadata": {
    "collapsed": false
   },
   "outputs": [
    {
     "name": "stdout",
     "output_type": "stream",
     "text": [
      "Student data read successfully!\n"
     ]
    }
   ],
   "source": [
    "# Import libraries\n",
    "import numpy as np\n",
    "import pandas as pd\n",
    "from time import time\n",
    "from sklearn.metrics import f1_score\n",
    "\n",
    "# Set reandom state\n",
    "random_state = 37\n",
    "\n",
    "# Read student data\n",
    "student_data = pd.read_csv(\"student-data.csv\")\n",
    "print \"Student data read successfully!\""
   ]
  },
  {
   "cell_type": "markdown",
   "metadata": {},
   "source": [
    "### Implementation: Data Exploration\n",
    "Let's begin by investigating the dataset to determine how many students we have information on, and learn about the graduation rate among these students. In the code cell below, you will need to compute the following:\n",
    "- The total number of students, `n_students`.\n",
    "- The total number of features for each student, `n_features`.\n",
    "- The number of those students who passed, `n_passed`.\n",
    "- The number of those students who failed, `n_failed`.\n",
    "- The graduation rate of the class, `grad_rate`, in percent (%).\n"
   ]
  },
  {
   "cell_type": "code",
   "execution_count": 2,
   "metadata": {
    "collapsed": false
   },
   "outputs": [
    {
     "name": "stdout",
     "output_type": "stream",
     "text": [
      "Total number of students: 395\n",
      "Number of features: 30\n",
      "Number of students who passed: 265\n",
      "Number of students who failed: 130\n",
      "Graduation rate of the class: 67.09%\n"
     ]
    }
   ],
   "source": [
    "# Calculate number of students\n",
    "n_students = len(student_data)\n",
    "\n",
    "# Calculate number of features\n",
    "n_features = len(student_data.columns) - 1\n",
    "\n",
    "# Calculate passing students\n",
    "n_passed = sum(1 for passed in student_data[\"passed\"] if passed == \"yes\")\n",
    "\n",
    "# Calculate failing students\n",
    "n_failed = sum(1 for passed in student_data[\"passed\"] if passed == \"no\")\n",
    "\n",
    "# Calculate graduation rate\n",
    "grad_rate = 100 * float(n_passed) / n_students\n",
    "\n",
    "# Print the results\n",
    "print \"Total number of students: {}\".format(n_students)\n",
    "print \"Number of features: {}\".format(n_features)\n",
    "print \"Number of students who passed: {}\".format(n_passed)\n",
    "print \"Number of students who failed: {}\".format(n_failed)\n",
    "print \"Graduation rate of the class: {:.2f}%\".format(grad_rate)"
   ]
  },
  {
   "cell_type": "markdown",
   "metadata": {},
   "source": [
    "## Preparing the Data\n",
    "In this section, we will prepare the data for modeling, training and testing.\n",
    "\n",
    "### Identify feature and target columns\n",
    "It is often the case that the data you obtain contains non-numeric features. This can be a problem, as most machine learning algorithms expect numeric data to perform computations with.\n",
    "\n",
    "Run the code cell below to separate the student data into feature and target columns to see if any features are non-numeric."
   ]
  },
  {
   "cell_type": "code",
   "execution_count": 3,
   "metadata": {
    "collapsed": false
   },
   "outputs": [
    {
     "name": "stdout",
     "output_type": "stream",
     "text": [
      "Feature columns:\n",
      "['school', 'sex', 'age', 'address', 'famsize', 'Pstatus', 'Medu', 'Fedu', 'Mjob', 'Fjob', 'reason', 'guardian', 'traveltime', 'studytime', 'failures', 'schoolsup', 'famsup', 'paid', 'activities', 'nursery', 'higher', 'internet', 'romantic', 'famrel', 'freetime', 'goout', 'Dalc', 'Walc', 'health', 'absences']\n",
      "\n",
      "Target column: passed\n",
      "\n",
      "Feature values:\n",
      "  school sex  age address famsize Pstatus  Medu  Fedu     Mjob      Fjob  \\\n",
      "0     GP   F   18       U     GT3       A     4     4  at_home   teacher   \n",
      "1     GP   F   17       U     GT3       T     1     1  at_home     other   \n",
      "2     GP   F   15       U     LE3       T     1     1  at_home     other   \n",
      "3     GP   F   15       U     GT3       T     4     2   health  services   \n",
      "4     GP   F   16       U     GT3       T     3     3    other     other   \n",
      "\n",
      "    ...    higher internet  romantic  famrel  freetime goout Dalc Walc health  \\\n",
      "0   ...       yes       no        no       4         3     4    1    1      3   \n",
      "1   ...       yes      yes        no       5         3     3    1    1      3   \n",
      "2   ...       yes      yes        no       4         3     2    2    3      3   \n",
      "3   ...       yes      yes       yes       3         2     2    1    1      5   \n",
      "4   ...       yes       no        no       4         3     2    1    2      5   \n",
      "\n",
      "  absences  \n",
      "0        6  \n",
      "1        4  \n",
      "2       10  \n",
      "3        2  \n",
      "4        4  \n",
      "\n",
      "[5 rows x 30 columns]\n"
     ]
    }
   ],
   "source": [
    "# Extract feature columns\n",
    "feature_cols = list(student_data.columns[:-1])\n",
    "\n",
    "# Extract target column 'passed'\n",
    "target_col = student_data.columns[-1] \n",
    "\n",
    "# Show the list of columns\n",
    "print \"Feature columns:\\n{}\".format(feature_cols)\n",
    "print \"\\nTarget column: {}\".format(target_col)\n",
    "\n",
    "# Separate the data into feature data and target data (X_all and y_all, respectively)\n",
    "X_all = student_data[feature_cols]\n",
    "y_all = student_data[target_col]\n",
    "\n",
    "# Show the feature information by printing the first five rows\n",
    "print \"\\nFeature values:\"\n",
    "print X_all.head()"
   ]
  },
  {
   "cell_type": "markdown",
   "metadata": {},
   "source": [
    "### Preprocess Feature Columns\n",
    "\n",
    "As you can see, there are several non-numeric columns that need to be converted! Many of them are simply `yes`/`no`, e.g. `internet`. These can be reasonably converted into `1`/`0` (binary) values.\n",
    "\n",
    "Other columns, like `Mjob` and `Fjob`, have more than two values, and are known as _categorical variables_. The recommended way to handle such a column is to create as many columns as possible values (e.g. `Fjob_teacher`, `Fjob_other`, `Fjob_services`, etc.), and assign a `1` to one of them and `0` to all others.\n",
    "\n",
    "These generated columns are sometimes called _dummy variables_, and we will use the [`pandas.get_dummies()`](http://pandas.pydata.org/pandas-docs/stable/generated/pandas.get_dummies.html?highlight=get_dummies#pandas.get_dummies) function to perform this transformation. Run the code cell below to perform the preprocessing routine discussed in this section."
   ]
  },
  {
   "cell_type": "code",
   "execution_count": 4,
   "metadata": {
    "collapsed": false
   },
   "outputs": [
    {
     "name": "stdout",
     "output_type": "stream",
     "text": [
      "Processed feature columns (48 total features):\n",
      "['school_GP', 'school_MS', 'sex_F', 'sex_M', 'age', 'address_R', 'address_U', 'famsize_GT3', 'famsize_LE3', 'Pstatus_A', 'Pstatus_T', 'Medu', 'Fedu', 'Mjob_at_home', 'Mjob_health', 'Mjob_other', 'Mjob_services', 'Mjob_teacher', 'Fjob_at_home', 'Fjob_health', 'Fjob_other', 'Fjob_services', 'Fjob_teacher', 'reason_course', 'reason_home', 'reason_other', 'reason_reputation', 'guardian_father', 'guardian_mother', 'guardian_other', 'traveltime', 'studytime', 'failures', 'schoolsup', 'famsup', 'paid', 'activities', 'nursery', 'higher', 'internet', 'romantic', 'famrel', 'freetime', 'goout', 'Dalc', 'Walc', 'health', 'absences']\n"
     ]
    }
   ],
   "source": [
    "def preprocess_features(X):\n",
    "    ''' Preprocesses the student data and converts non-numeric binary variables into\n",
    "        binary (0/1) variables. Converts categorical variables into dummy variables. '''\n",
    "    \n",
    "    # Initialize new output DataFrame\n",
    "    output = pd.DataFrame(index = X.index)\n",
    "\n",
    "    # Investigate each feature column for the data\n",
    "    for col, col_data in X.iteritems():\n",
    "        \n",
    "        # If data type is non-numeric, replace all yes/no values with 1/0\n",
    "        if col_data.dtype == object:\n",
    "            col_data = col_data.replace(['yes', 'no'], [1, 0])\n",
    "\n",
    "        # If data type is categorical, convert to dummy variables\n",
    "        if col_data.dtype == object:\n",
    "            # Example: 'school' => 'school_GP' and 'school_MS'\n",
    "            col_data = pd.get_dummies(col_data, prefix = col)  \n",
    "        \n",
    "        # Collect the revised columns\n",
    "        output = output.join(col_data)\n",
    "    \n",
    "    return output\n",
    "\n",
    "X_all = preprocess_features(X_all)\n",
    "print \"Processed feature columns ({} total features):\\n{}\".format(len(X_all.columns), list(X_all.columns))"
   ]
  },
  {
   "cell_type": "markdown",
   "metadata": {},
   "source": [
    "### Implementation: Training and Testing Data Split\n",
    "So far, we have converted all _categorical_ features into numeric values. For the next step, we split the data (both features and corresponding labels) into training and test sets. In the following code cell below, you will need to implement the following:\n",
    "- Randomly shuffle and split the data (`X_all`, `y_all`) into training and testing subsets.\n",
    "  - Use 300 training points (approximately 75%) and 95 testing points (approximately 25%).\n",
    "  - Set a `random_state` for the function(s) you use, if provided.\n",
    "  - Store the results in `X_train`, `X_test`, `y_train`, and `y_test`."
   ]
  },
  {
   "cell_type": "code",
   "execution_count": 5,
   "metadata": {
    "collapsed": false
   },
   "outputs": [
    {
     "name": "stdout",
     "output_type": "stream",
     "text": [
      "Training set has 300 samples.\n",
      "Testing set has 95 samples.\n"
     ]
    }
   ],
   "source": [
    "# Import any additional functionality you may need here\n",
    "from sklearn.cross_validation import StratifiedShuffleSplit as shuffle_split\n",
    "\n",
    "# Set the number of training points\n",
    "num_train = 300\n",
    "\n",
    "# Shuffle and split the dataset into the number of training and testing points above\n",
    "shuffled = shuffle_split(y_all.as_matrix(), 1, None, num_train, random_state)\n",
    "for train_index, test_index in shuffled:\n",
    "    X_train, y_train = X_all.loc[train_index], y_all.loc[train_index]\n",
    "    X_test, y_test = X_all.loc[test_index], y_all.loc[test_index]\n",
    "\n",
    "# Show the results of the split\n",
    "print \"Training set has {} samples.\".format(X_train.shape[0])\n",
    "print \"Testing set has {} samples.\".format(X_test.shape[0])"
   ]
  },
  {
   "cell_type": "markdown",
   "metadata": {},
   "source": [
    "## Training and Evaluating Models\n",
    "In this section, you will choose 3 supervised learning models that are appropriate for this problem and available in `scikit-learn`. You will first discuss the reasoning behind choosing these three models by considering what you know about the data and each model's strengths and weaknesses. You will then fit the model to varying sizes of training data (100 data points, 200 data points, and 300 data points) and measure the F<sub>1</sub> score. You will need to produce three tables (one for each model) that shows the training set size, training time, prediction time, F<sub>1</sub> score on the training set, and F<sub>1</sub> score on the testing set."
   ]
  },
  {
   "cell_type": "markdown",
   "metadata": {},
   "source": [
    "### Question 2 - Model Application\n",
    "*List three supervised learning models that are appropriate for this problem. What are the general applications of each model? What are their strengths and weaknesses? Given what you know about the data, why did you choose these models to be applied?*"
   ]
  },
  {
   "cell_type": "markdown",
   "metadata": {},
   "source": [
    "**Answer: ** As it was hard for me to choose only 3 algorithms just by looking at the data I tried a few more:\n",
    "- **Naive Bayes**\n",
    "    - **pros**\n",
    "        - fast and simple\n",
    "    - **cons**\n",
    "        - assumes that features are independent (so some additional work on features may be required)\n",
    "        - can not fit the complex hypothesis\n",
    "- **KNeighborsClassifier**\n",
    "    - **pros**\n",
    "        - takes little time to fit\n",
    "        - may show good result \n",
    "    - **cons**\n",
    "        - takes significant time to predict\n",
    "- **Support Vector Machines**\n",
    "    - **pros**\n",
    "        - effective for a big number of features\n",
    "        - may be very effective on complex data using different kernels\n",
    "    - **cons**\n",
    "        - slow when kernel other than linear is used\n",
    "- **Decision Tree**\n",
    "    - **pros**\n",
    "        - fast\n",
    "        - selects most important features first\n",
    "    - **cons**\n",
    "        - easy to overfit\n",
    "        - may end up in a local minimum\n",
    "- **Random Forest**\n",
    "    - **pros**\n",
    "        - uses multiple Decision Trees to avoid overfitting\n",
    "    - **cons**\n",
    "        - slow comparing to **DecisionTreeClassifier**\n",
    "- **Gradient Boosting**\n",
    "    - **pros**\n",
    "        - hard to overfit\n",
    "        - improves with every additional train point\n",
    "    - **cons**\n",
    "        - slow training comparing to other algorithms      \n",
    "        \n",
    "After doing training and testing on these models with the default parameters I decided to choose following models:\n",
    "- **GaussianNB** - fast in both training and testing. Accuracy is moderate and could be improved by additional filtering/analysis on features in my opinion.\n",
    "- **SVC** - shows very good results and can be even tuned further. But both training and testing time are high.\n",
    "- **DecisionTreeClassifier** - fast in both training and testing. But apparently it overfits with the default parameters. It can be significantly improved by parameters tuning.\n",
    "\n",
    "Other 3 were discarded becaouse of:\n",
    "- **KNeighborsClassifier** - takes same time to predict as SVC but accurecy is worse.\n",
    "- **RandomForestClassifier**, **GradientBoostingClassifier** - take much more time to train and predict."
   ]
  },
  {
   "cell_type": "markdown",
   "metadata": {},
   "source": [
    "### Setup\n",
    "Run the code cell below to initialize three helper functions which you can use for training and testing the three supervised learning models you've chosen above. The functions are as follows:\n",
    "- `train_classifier` - takes as input a classifier and training data and fits the classifier to the data.\n",
    "- `predict_labels` - takes as input a fit classifier, features, and a target labeling and makes predictions using the F<sub>1</sub> score.\n",
    "- `train_predict` - takes as input a classifier, and the training and testing data, and performs `train_clasifier` and `predict_labels`.\n",
    " - This function will report the F<sub>1</sub> score for both the training and testing data separately."
   ]
  },
  {
   "cell_type": "code",
   "execution_count": 6,
   "metadata": {
    "collapsed": false
   },
   "outputs": [],
   "source": [
    "def train_classifier(clf, X_train, y_train):\n",
    "    ''' Fits a classifier to the training data. '''\n",
    "    \n",
    "    # Start the clock, train the classifier, then stop the clock\n",
    "    start = time()\n",
    "    clf.fit(X_train, y_train)\n",
    "    time_spent = time() - start\n",
    "    \n",
    "    # Return train time\n",
    "    return time_spent\n",
    "\n",
    "\n",
    "def predict_labels(clf, features, target):\n",
    "    ''' Makes predictions using a fit classifier based on F1 score. '''\n",
    "    \n",
    "    # Start the clock, make predictions, then stop the clock\n",
    "    start = time()\n",
    "    y_pred = clf.predict(features)\n",
    "    time_spent = time() - start\n",
    "    \n",
    "    # Return both score and predict time\n",
    "    return (f1_score(target.values, y_pred, pos_label='yes'), time_spent)\n",
    "\n",
    "\n",
    "def train_predict(clf, X_train, y_train, X_test, y_test):\n",
    "    ''' Train and predict using a classifer based on F1 score. '''\n",
    "    \n",
    "    # Train the classifier\n",
    "    train_time = train_classifier(clf, X_train, y_train)\n",
    "    \n",
    "    # Predict on train data\n",
    "    train_result = predict_labels(clf, X_train, y_train)\n",
    "    \n",
    "    # Predict on test data\n",
    "    test_result = predict_labels(clf, X_test, y_test)\n",
    "    \n",
    "    # Return train time, train and test result\n",
    "    return (train_time, train_result, test_result)"
   ]
  },
  {
   "cell_type": "markdown",
   "metadata": {},
   "source": [
    "### Implementation: Model Performance Metrics\n",
    "With the predefined functions above, you will now import the three supervised learning models of your choice and run the `train_predict` function for each one. Remember that you will need to train and predict on each classifier for three different training set sizes: 100, 200, and 300. Hence, you should expect to have 9 different outputs below — 3 for each model using the varying training set sizes. In the following code cell, you will need to implement the following:\n",
    "- Import the three supervised learning models you've discussed in the previous section.\n",
    "- Initialize the three models and store them in `clf_A`, `clf_B`, and `clf_C`.\n",
    " - Use a `random_state` for each model you use, if provided.\n",
    " - **Note:** Use the default settings for each model — you will tune one specific model in a later section.\n",
    "- Create the different training set sizes to be used to train each model.\n",
    " - *Do not reshuffle and resplit the data! The new training points should be drawn from `X_train` and `y_train`.*\n",
    "- Fit each model with each training set size and make predictions on the test set (9 in total).  \n",
    "**Note:** Three tables are provided after the following code cell which can be used to store your results."
   ]
  },
  {
   "cell_type": "code",
   "execution_count": 7,
   "metadata": {
    "collapsed": false
   },
   "outputs": [
    {
     "name": "stdout",
     "output_type": "stream",
     "text": [
      "GaussianNB\n",
      " ====================================================\n",
      "|    train      | predict on train | predict on test |\n",
      "| size |  time  |  time  |  score  |  time  |  score |\n",
      " ====================================================\n",
      "|  100 | 0.0034 | 0.0007 |  0.8000 | 0.0013 | 0.6446 |\n",
      "|  200 | 0.0016 | 0.0005 |  0.8116 | 0.0003 | 0.6446 |\n",
      "|  300 | 0.0009 | 0.0005 |  0.8028 | 0.0004 | 0.7176 |\n",
      " ====================================================\n",
      "KNeighborsClassifier\n",
      " ====================================================\n",
      "|    train      | predict on train | predict on test |\n",
      "| size |  time  |  time  |  score  |  time  |  score |\n",
      " ====================================================\n",
      "|  100 | 0.0011 | 0.0021 |  0.8030 | 0.0016 | 0.7188 |\n",
      "|  200 | 0.0006 | 0.0037 |  0.8600 | 0.0018 | 0.7826 |\n",
      "|  300 | 0.0009 | 0.0072 |  0.8616 | 0.0027 | 0.8286 |\n",
      " ====================================================\n",
      "SVC\n",
      " ====================================================\n",
      "|    train      | predict on train | predict on test |\n",
      "| size |  time  |  time  |  score  |  time  |  score |\n",
      " ====================================================\n",
      "|  100 | 0.0023 | 0.0020 |  0.8444 | 0.0022 | 0.7287 |\n",
      "|  200 | 0.0084 | 0.0061 |  0.8525 | 0.0027 | 0.7755 |\n",
      "|  300 | 0.0131 | 0.0110 |  0.8720 | 0.0048 | 0.8212 |\n",
      " ====================================================\n",
      "DecisionTreeClassifier\n",
      " ====================================================\n",
      "|    train      | predict on train | predict on test |\n",
      "| size |  time  |  time  |  score  |  time  |  score |\n",
      " ====================================================\n",
      "|  100 | 0.0020 | 0.0005 |  1.0000 | 0.0003 | 0.6552 |\n",
      "|  200 | 0.0026 | 0.0005 |  1.0000 | 0.0003 | 0.7231 |\n",
      "|  300 | 0.0026 | 0.0006 |  1.0000 | 0.0003 | 0.7244 |\n",
      " ====================================================\n",
      "RandomForestClassifier\n",
      " ====================================================\n",
      "|    train      | predict on train | predict on test |\n",
      "| size |  time  |  time  |  score  |  time  |  score |\n",
      " ====================================================\n",
      "|  100 | 0.0227 | 0.0014 |  0.9915 | 0.0012 | 0.5391 |\n",
      "|  200 | 0.0238 | 0.0019 |  0.9962 | 0.0013 | 0.6772 |\n",
      "|  300 | 0.0217 | 0.0025 |  0.9975 | 0.0014 | 0.7463 |\n",
      " ====================================================\n",
      "GradientBoostingClassifier\n",
      " ====================================================\n",
      "|    train      | predict on train | predict on test |\n",
      "| size |  time  |  time  |  score  |  time  |  score |\n",
      " ====================================================\n",
      "|  100 | 0.0797 | 0.0006 |  1.0000 | 0.0005 | 0.6723 |\n",
      "|  200 | 0.1093 | 0.0009 |  0.9962 | 0.0005 | 0.7669 |\n",
      "|  300 | 0.1205 | 0.0010 |  0.9756 | 0.0004 | 0.7536 |\n",
      " ====================================================\n"
     ]
    }
   ],
   "source": [
    "# Import the three supervised learning models from sklearn\n",
    "from sklearn.naive_bayes import GaussianNB\n",
    "from sklearn.neighbors import KNeighborsClassifier\n",
    "from sklearn.tree import DecisionTreeClassifier\n",
    "from sklearn.svm import SVC\n",
    "from sklearn.ensemble import GradientBoostingClassifier\n",
    "from sklearn.ensemble import RandomForestClassifier\n",
    "\n",
    "# Initialize the three models\n",
    "clf_models = [GaussianNB(), \n",
    "              KNeighborsClassifier(),\n",
    "              SVC(random_state=random_state),\n",
    "              DecisionTreeClassifier(random_state=random_state), \n",
    "              RandomForestClassifier(random_state=random_state),\n",
    "              GradientBoostingClassifier(random_state=random_state)]\n",
    "\n",
    "# Set up the training set sizes\n",
    "train_data = []\n",
    "for train_size in [100, 200, 300]:\n",
    "        train_data.append((X_train[:train_size], y_train[:train_size]))\n",
    "        \n",
    "# Execute the 'train_predict' function for each classifier and each training set size\n",
    "for clf in clf_models:    \n",
    "    print clf.__class__.__name__\n",
    "    print \" ====================================================\"\n",
    "    print \"|    train      | predict on train | predict on test |\"\n",
    "    print \"| size |  time  |  time  |  score  |  time  |  score |\"\n",
    "    print \" ====================================================\"\n",
    "    for X_train, y_train in train_data:\n",
    "        stat = train_predict(clf, X_train, y_train, X_test, y_test)\n",
    "        print \"|  {} |\".format(len(X_train)), \"{:.4f} |\".format(stat[0]), \\\n",
    "            \"{:.4f} |\".format(stat[1][1]), \" {:.4f} |\".format(stat[1][0]), \\\n",
    "            \"{:.4f} |\".format(stat[2][1]), \"{:.4f} |\".format(stat[2][0])\n",
    "    print \" ====================================================\""
   ]
  },
  {
   "cell_type": "markdown",
   "metadata": {},
   "source": [
    "### Tabular Results\n",
    "Edit the cell below to see how a table can be designed in [Markdown](https://github.com/adam-p/markdown-here/wiki/Markdown-Cheatsheet#tables). You can record your results from above in the tables provided."
   ]
  },
  {
   "cell_type": "markdown",
   "metadata": {},
   "source": [
    "** Classifer 1 - Gaussian Naive Bayes Classifier**  \n",
    "\n",
    "| Training Set Size | Prediction Time (train) | Prediction Time (test) | F1 Score (train) | F1 Score (test) |\n",
    "| :---------------: | :---------------------: | :--------------------: | :--------------: | :-------------: |\n",
    "| 100               | 0.0004                  | 0.0003                 | 0.8000           | 0.6446          |\n",
    "| 200               | 0.0006                  | 0.0005                 | 0.8116           | 0.6446          |\n",
    "| 300               | 0.0006                  | 0.0006                 | 0.8028           | 0.7176          |\n",
    "\n",
    "** Classifer 2 - Support Vector Classifier**  \n",
    "\n",
    "| Training Set Size | Prediction Time (train) | Prediction Time (test) | F1 Score (train) | F1 Score (test) |\n",
    "| :---------------: | :---------------------: | :--------------------: | :--------------: | :-------------: |\n",
    "| 100               | 0.0017                  | 0.0016                 | 0.8444           | 0.7287          |\n",
    "| 200               | 0.0059                  | 0.0033                 | 0.8525           | 0.7755          |\n",
    "| 300               | 0.0110                  | 0.0036                 | 0.8720           | 0.8212          |\n",
    "\n",
    "** Classifer 3 - Decision Tree Classifier**  \n",
    "\n",
    "| Training Set Size | Prediction Time (train) | Prediction Time (test) | F1 Score (train) | F1 Score (test) |\n",
    "| :---------------: | :---------------------: | :--------------------: | :--------------: | :-------------: |\n",
    "| 100               | 0.0002                  | 0.0002                 | 1.0000           | 0.6552          |\n",
    "| 200               | 0.0002                  | 0.0002                 | 1.0000           | 0.7231          |\n",
    "| 300               | 0.0004                  | 0.0002                 | 1.0000           | 0.7244          |"
   ]
  },
  {
   "cell_type": "markdown",
   "metadata": {},
   "source": [
    "## Choosing the Best Model\n",
    "In this final section, you will choose from the three supervised learning models the *best* model to use on the student data. You will then perform a grid search optimization for the model over the entire training set (`X_train` and `y_train`) by tuning at least one parameter to improve upon the untuned model's F<sub>1</sub> score. "
   ]
  },
  {
   "cell_type": "markdown",
   "metadata": {},
   "source": [
    "### Question 3 - Chosing the Best Model\n",
    "*Based on the experiments you performed earlier, in one to two paragraphs, explain to the board of supervisors what single model you chose as the best model. Which model is generally the most appropriate based on the available data, limited resources, cost, and performance?*"
   ]
  },
  {
   "cell_type": "markdown",
   "metadata": {},
   "source": [
    "**Answer: ** I would choose SVM classifier if I only needed to care about an accuracy of the model. On the other hand I would choose Naive Bayes classifier if I could not tune the classifier further as it is fast and shows good performace out of the box. But being able to tune and keeping in mind limited resources I decided to take and tune Decision Tree classifier. Despite bad results with the default parameters, it shows very good speed and can be easily improved by tuning. Most likely, it won't show the best results after tuning but will cost much less than other classifiers."
   ]
  },
  {
   "cell_type": "markdown",
   "metadata": {},
   "source": [
    "### Question 4 - Model in Layman's Terms\n",
    "*In one to two paragraphs, explain to the board of directors in layman's terms how the final model chosen is supposed to work. For example if you've chosen to use a decision tree or a support vector machine, how does the model go about making a prediction?*"
   ]
  },
  {
   "cell_type": "markdown",
   "metadata": {},
   "source": [
    "**Answer: ** \n",
    "A decision tree classifies data by asking a series of questions about the features for a specific item. So it is a tree where nodes are conditions (usually yes-no questions) and leaves are classes. Also, it's important that questions that give more information should go first.\n",
    "\n",
    "To build such tree following steps should be performed:\n",
    "- Find the best feature and it's value to split train data into 2 groups. As a result, we want to get groups where items in each group are similar (ideally all items in a group belongs to one class).\n",
    "- Repeat step 1 for each of the groups using the remaining features.\n",
    "- Stop when we are satisfied with the resulted tree. For example:\n",
    "    - we have groups where each group contains only instances of one class\n",
    "    - all features have been used\n",
    "    - the tree reaches desired depth\n",
    "    - etc\n",
    "\n",
    "When we need to make a prediction we can traverse the tree by following а path where all conditions are satisfied for the given point. Final leaf will be the most probable class for the point."
   ]
  },
  {
   "cell_type": "markdown",
   "metadata": {},
   "source": [
    "### Implementation: Model Tuning\n",
    "Fine tune the chosen model. Use grid search (`GridSearchCV`) with at least one important parameter tuned with at least 3 different values. You will need to use the entire training set for this. In the code cell below, you will need to implement the following:\n",
    "- Import [`sklearn.grid_search.gridSearchCV`](http://scikit-learn.org/stable/modules/generated/sklearn.grid_search.GridSearchCV.html) and [`sklearn.metrics.make_scorer`](http://scikit-learn.org/stable/modules/generated/sklearn.metrics.make_scorer.html).\n",
    "- Create a dictionary of parameters you wish to tune for the chosen model.\n",
    " - Example: `parameters = {'parameter' : [list of values]}`.\n",
    "- Initialize the classifier you've chosen and store it in `clf`.\n",
    "- Create the F<sub>1</sub> scoring function using `make_scorer` and store it in `f1_scorer`.\n",
    " - Set the `pos_label` parameter to the correct value!\n",
    "- Perform grid search on the classifier `clf` using `f1_scorer` as the scoring method, and store it in `grid_obj`.\n",
    "- Fit the grid search object to the training data (`X_train`, `y_train`), and store it in `grid_obj`."
   ]
  },
  {
   "cell_type": "code",
   "execution_count": 8,
   "metadata": {
    "collapsed": false
   },
   "outputs": [
    {
     "name": "stdout",
     "output_type": "stream",
     "text": [
      "Tuned model has a training F1 score of 0.8119.\n",
      "Tuned model has a testing F1 score of 0.8085.\n"
     ]
    },
    {
     "data": {
      "image/png": "[encoded data removed]",
      "text/plain": [
       "<IPython.core.display.Image object>"
      ]
     },
     "metadata": {},
     "output_type": "display_data"
    }
   ],
   "source": [
    "# Import 'gridSearchCV' and 'make_scorer'\n",
    "from sklearn.metrics import make_scorer\n",
    "from sklearn.grid_search import GridSearchCV\n",
    "\n",
    "# Create the parameters list you wish to tune\n",
    "parameters = {\"criterion\": [\"gini\", \"entropy\"],\n",
    "              \"min_samples_split\": [1, 10, 20],\n",
    "              \"max_depth\": [None, 2, 5, 10],\n",
    "              \"min_samples_leaf\": [1, 5, 10],\n",
    "              \"max_leaf_nodes\": [None, 2, 5, 10, 20]}\n",
    "\n",
    "# Initialize the classifier\n",
    "clf = DecisionTreeClassifier(random_state=0)\n",
    "\n",
    "# Make an f1 scoring function using 'make_scorer' \n",
    "f1_scorer = make_scorer(f1_score, pos_label=\"yes\")\n",
    "\n",
    "# Perform grid search on the classifier using the f1_scorer as the scoring method\n",
    "grid_obj = GridSearchCV(clf, parameters, scoring=f1_scorer)\n",
    "\n",
    "# Fit the grid search object to the training data and find the optimal parameters\n",
    "grid_obj = grid_obj.fit(X_train, y_train)\n",
    "\n",
    "# Get the estimator\n",
    "clf = grid_obj.best_estimator_\n",
    "\n",
    "# Report the final F1 score for training and testing after parameter tuning\n",
    "train_result = predict_labels(clf, X_train, y_train)\n",
    "test_result = predict_labels(clf, X_test, y_test)\n",
    "print \"Tuned model has a training F1 score of {:.4f}.\".format(train_result[0])\n",
    "print \"Tuned model has a testing F1 score of {:.4f}.\".format(test_result[0])\n",
    "\n",
    "# Display tuned decision tree\n",
    "from StringIO import StringIO\n",
    "from pydot import graph_from_dot_data\n",
    "from IPython.display import Image, display  \n",
    "\n",
    "try:\n",
    "    from StringIO import StringIO\n",
    "    from pydot import graph_from_dot_data\n",
    "    from sklearn.tree import export_graphviz\n",
    "    from IPython.display import Image, display  \n",
    "\n",
    "    dot_data = StringIO()  \n",
    "    export_graphviz(clf, out_file=dot_data)  \n",
    "    graph = graph_from_dot_data(dot_data.getvalue())  \n",
    "    display(Image(graph.create_png()))\n",
    "except:\n",
    "    None"
   ]
  },
  {
   "cell_type": "markdown",
   "metadata": {},
   "source": [
    "### Question 5 - Final F<sub>1</sub> Score\n",
    "*What is the final model's F<sub>1</sub> score for training and testing? How does that score compare to the untuned model?*"
   ]
  },
  {
   "cell_type": "markdown",
   "metadata": {},
   "source": [
    "**Answer: ** \n",
    "- Tuned model has a training F1 score of **0.8119**. \n",
    "- Tuned model has a testing F1 score of **0.8085**.\n",
    "\n",
    "The training score is much lower and the testing score is higher that it was before tuning. It shows that the model is not suffering from high variance as it was before. And it appears that tuned tree uses only one feature - *\"failures\"*."
   ]
  },
  {
   "cell_type": "markdown",
   "metadata": {},
   "source": [
    "> **Note**: Once you have completed all of the code implementations and successfully answered each question above, you may finalize your work by exporting the iPython Notebook as an HTML document. You can do this by using the menu above and navigating to  \n",
    "**File -> Download as -> HTML (.html)**. Include the finished document along with this notebook as your submission."
   ]
  }
 ],
 "metadata": {
  "kernelspec": {
   "display_name": "Python 2",
   "language": "python",
   "name": "python2"
  },
  "language_info": {
   "codemirror_mode": {
    "name": "ipython",
    "version": 2
   },
   "file_extension": ".py",
   "mimetype": "text/x-python",
   "name": "python",
   "nbconvert_exporter": "python",
   "pygments_lexer": "ipython2",
   "version": "2.7.11+"
  }
 },
 "nbformat": 4,
 "nbformat_minor": 0
}
